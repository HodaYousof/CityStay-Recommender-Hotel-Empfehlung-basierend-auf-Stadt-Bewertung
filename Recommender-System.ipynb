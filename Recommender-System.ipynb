{
 "cells": [
  {
   "cell_type": "markdown",
   "id": "afd8fc17-61ae-420f-8bd2-659b8996400e",
   "metadata": {},
   "source": [
    "<center>\n",
    "<span style=\"color:#0F52BA;font-family:serif; font-size:34px;\">CityStay Recommender – Hotel-Empfehlung basierend auf Stadt & Bewertung"
   ]
  },
  {
   "cell_type": "markdown",
   "id": "ef17adbb-58cb-4150-805e-0ff61586085e",
   "metadata": {},
   "source": [
    "# <span style=\"font-family:serif; font-size:28px;\"> Inhalt</span>\n",
    "1. [Einleitung](#1)\n",
    "    * [Projektidee](#2)\n",
    "    * [Zielsetzung](#3)\n",
    "    * [Datenquelle](#4)\n",
    "    * [Motivation](#5)\n",
    "2. [Laden von Bibleotheken](#6)   \n",
    "3. [Datenexploration und -vorbereitung](#7)\n",
    "    * [Umgang mit fehlenden Werten](#8)\n",
    "    * [Datenbereinigung und Transformation](#9)\n",
    "    * [fehlende Werte bearbeiten](#10)\n",
    "    * [Kategorien vereinheitlichen](#11)\n",
    "4. [Data Visualisierung ](#12)\n",
    "    * [Verteilung der Bewertung](#13)\n",
    "    * [Durchschnittliche Bewertung je Stadt](#14)\n",
    "    * [Bewertung vs. Entfernung vom Zentrum](#15)\n",
    "    * [Top bewertete Hotels](#16)\n",
    "    * [Anzahl Bewertungen vs. Bewertung](#17)\n",
    "5. [Recommender-System Architektur](#18)\n",
    "    * [Wahl des Recommender-Typs (Content-Based, Collaborative Filtering etc.)](#19)\n",
    "    * [Modellauswahl und Begründung](#20)\n",
    "6. [Content-Based System aufbauen (Defintion basiert kein ML )](#21)\n",
    "7. [Nutzung des Modells zur Empfehlung](#22)\n",
    "    * [Trainingsprozess](#23)\n",
    "    * [Performance-Metriken (z. B. RMSE, Precision@k)](#24)\n",
    "8. [Empfehlung als Diagram darstellen](#25)\n",
    "9. [Fazit](#26)\n",
    "10. [Modell speichern](#27)\n",
    "    "
   ]
  },
  {
   "cell_type": "markdown",
   "id": "463e1fd0-4f8e-46a4-8a45-fea04088eb58",
   "metadata": {},
   "source": [
    "<center>\n",
    "<span style=\"color:#0F52BA;font-family:serif; font-size:34px;\">CityStay Recommender – Hotel-Empfehlung basierend auf Stadt & Bewertung"
   ]
  },
  {
   "cell_type": "markdown",
   "id": "f64853e3-8e13-4eb4-ba7c-170ee7e3cb36",
   "metadata": {},
   "source": [
    "<a id = \"1\" ></a>\n",
    "# <span style=\"font-family:serif; font-size:28px;\"> 1. Einleitung</span>\n",
    "<a id = \"Einleitung\" ></a>\n",
    "\n",
    "\n",
    "<a id = \"2\" ></a>\n",
    "#### <b>Projektidee</b>\n",
    "<span style=\"font-size:16px;\">In diesem Projekt soll ein Recommender-System für Hotels entwickelt werden, das Nutzern hilft, passende Unterkünfte in einer bestimmten Stadt zu finden. Grundlage sind hotelbezogene Merkmale wie Lage, Entfernung zum Zentrum, Bewertung und Anzahl der Rezensionen.\n",
    "\n",
    "<a id = \"2\" ></a>\n",
    "#### <b>Zielsetzung</b>\n",
    "<span style=\"font-size:16px;\">Das Ziel ist es, ein einfaches Empfehlungssystem zu erstellen, das Hotels auf Basis von Nutzerbewertungen, Entfernung zum Stadtzentrum und Beliebtheit vorschlägt. Dabei sollen erste Explorations- und Analyseverfahren mit Pandas angewendet werden.\n",
    "\n",
    "<a id = \"2\" ></a>\n",
    "#### <b>Datenquelle</b>\n",
    "<span style=\"font-size:16px;\">Der verwendete Datensatz stammt von Kaggle, enthält Informationen über Hotels wie:\n",
    "\n",
    "* Stadt\n",
    "* Hotelname\n",
    "* Lage innerhalb der Stadt\n",
    "* Entfernung zum Stadtzentrum\n",
    "* Bewertung durch Nutzer\n",
    "* Anzahl der abgegebenen Bewertungen\n",
    "\n",
    "<a id = \"2\" ></a>\n",
    "#### <b>Motivation</b>\n",
    "\n",
    "<span style=\"font-size:16px;\">Reiseplattformen wie GetYourGuide oder Booking.com leben von personalisierten Empfehlungen. Dieses Projekt ist ein praktischer Einstieg in Recommender-Systeme und hilft, ein besseres Verständnis für datengetriebene Entscheidungen im Tourismusbereich zu entwickeln.\n"
   ]
  },
  {
   "cell_type": "markdown",
   "id": "b61b539a-e624-4ee2-86cc-14af2cdc7923",
   "metadata": {},
   "source": [
    "<a id = \"5\" ></a>\n",
    "# <span style=\"font-family:serif; font-size:28px;\"> 2. Laden von Bibliotheken und Daten</span>\n",
    "<a id=\"laden\"></a>"
   ]
  },
  {
   "cell_type": "code",
   "execution_count": 161,
   "id": "2febd795-7246-478a-97c1-389803d3d818",
   "metadata": {},
   "outputs": [],
   "source": [
    "import pandas as pd\n",
    "import numpy as np\n",
    "import matplotlib.pyplot as plt\n",
    "from matplotlib.patches import Patch\n",
    "import seaborn as sns\n",
    "import plotly.express as px\n",
    "import plotly.graph_objects as go\n",
    "import joblib\n",
    "from plotly.subplots import make_subplots\n",
    "import warnings\n",
    "warnings.filterwarnings('ignore')"
   ]
  },
  {
   "cell_type": "code",
   "execution_count": 8,
   "id": "775fecbc-8aff-408e-ad7c-5846a6784661",
   "metadata": {},
   "outputs": [],
   "source": [
    "from sklearn.preprocessing import StandardScaler\n",
    "from sklearn.preprocessing import LabelEncoder\n",
    "from sklearn.tree import DecisionTreeClassifier\n",
    "from sklearn.ensemble import RandomForestClassifier\n",
    "from sklearn.neighbors import KNeighborsClassifier\n",
    "from sklearn.svm import SVC\n",
    "from sklearn.ensemble import GradientBoostingClassifier\n",
    "from sklearn.ensemble import ExtraTreesClassifier\n",
    "from sklearn.linear_model import LogisticRegression\n",
    "from sklearn.model_selection import train_test_split\n",
    "from sklearn.metrics import accuracy_score\n",
    "from xgboost import XGBClassifier\n",
    "from sklearn import metrics\n",
    "from sklearn.metrics import recall_score, confusion_matrix, precision_score, f1_score, accuracy_score, classification_report\n",
    "from sklearn.feature_selection import SelectKBest, f_classif\n",
    "from sklearn.model_selection import cross_val_score\n",
    "from sklearn.ensemble import GradientBoostingClassifier\n",
    "from sklearn.linear_model import LinearRegression\n",
    "from imblearn.over_sampling import SMOTE\n",
    "import joblib"
   ]
  },
  {
   "cell_type": "markdown",
   "id": "131605a5-b909-4fda-843f-c6efff5dba69",
   "metadata": {},
   "source": [
    "<a id = \"5\" ></a>\n",
    "# <span style=\"font-family:serif; font-size:28px;\"> 3. Datenexploration und -vorbereitung</span>\n",
    "<a id=\"laden\"></a>"
   ]
  },
  {
   "cell_type": "code",
   "execution_count": 10,
   "id": "e4f3c1af-8b14-455f-bb18-b8916d90c0ca",
   "metadata": {},
   "outputs": [
    {
     "data": {
      "text/html": [
       "<div>\n",
       "<style scoped>\n",
       "    .dataframe tbody tr th:only-of-type {\n",
       "        vertical-align: middle;\n",
       "    }\n",
       "\n",
       "    .dataframe tbody tr th {\n",
       "        vertical-align: top;\n",
       "    }\n",
       "\n",
       "    .dataframe thead th {\n",
       "        text-align: right;\n",
       "    }\n",
       "</style>\n",
       "<table border=\"1\" class=\"dataframe\">\n",
       "  <thead>\n",
       "    <tr style=\"text-align: right;\">\n",
       "      <th></th>\n",
       "      <th>Unnamed: 0</th>\n",
       "      <th>city</th>\n",
       "      <th>distance</th>\n",
       "      <th>hotel_names</th>\n",
       "      <th>location</th>\n",
       "      <th>rate</th>\n",
       "      <th>review_numbers</th>\n",
       "    </tr>\n",
       "  </thead>\n",
       "  <tbody>\n",
       "    <tr>\n",
       "      <th>0</th>\n",
       "      <td>0</td>\n",
       "      <td>Fatih, Istanbul</td>\n",
       "      <td>\\n1 miles from center\\n</td>\n",
       "      <td>\\nMardia city hotel\\n</td>\n",
       "      <td>Fatih, Istanbul</td>\n",
       "      <td>Review score</td>\n",
       "      <td>55 reviews</td>\n",
       "    </tr>\n",
       "    <tr>\n",
       "      <th>1</th>\n",
       "      <td>1</td>\n",
       "      <td>Fatih, Istanbul</td>\n",
       "      <td>\\n3.1 miles from center\\n</td>\n",
       "      <td>\\nDanis Hotel Istanbul\\n</td>\n",
       "      <td>Fatih, Istanbul</td>\n",
       "      <td>Exceptional</td>\n",
       "      <td>15 reviews</td>\n",
       "    </tr>\n",
       "    <tr>\n",
       "      <th>2</th>\n",
       "      <td>2</td>\n",
       "      <td>Beyoglu, Istanbul</td>\n",
       "      <td>\\n1 miles from center\\n</td>\n",
       "      <td>\\nCZN Burak Hotel\\n</td>\n",
       "      <td>Beyoglu, Istanbul</td>\n",
       "      <td>Very Good</td>\n",
       "      <td>63 reviews</td>\n",
       "    </tr>\n",
       "    <tr>\n",
       "      <th>3</th>\n",
       "      <td>3</td>\n",
       "      <td>Beyoglu, Istanbul</td>\n",
       "      <td>\\n3.1 miles from center\\n</td>\n",
       "      <td>\\nTHE TANGO HOTEL TAKSİM\\n</td>\n",
       "      <td>Beyoglu, Istanbul</td>\n",
       "      <td>Awesome</td>\n",
       "      <td>26 reviews</td>\n",
       "    </tr>\n",
       "    <tr>\n",
       "      <th>4</th>\n",
       "      <td>4</td>\n",
       "      <td>European Side, Istanbul</td>\n",
       "      <td>\\n2 miles from center\\n</td>\n",
       "      <td>\\nRamada Istanbul Alibeykoy\\n</td>\n",
       "      <td>European Side, Istanbul</td>\n",
       "      <td>Excellent</td>\n",
       "      <td>216 reviews</td>\n",
       "    </tr>\n",
       "    <tr>\n",
       "      <th>...</th>\n",
       "      <td>...</td>\n",
       "      <td>...</td>\n",
       "      <td>...</td>\n",
       "      <td>...</td>\n",
       "      <td>...</td>\n",
       "      <td>...</td>\n",
       "      <td>...</td>\n",
       "    </tr>\n",
       "    <tr>\n",
       "      <th>911</th>\n",
       "      <td>83</td>\n",
       "      <td>Old Town Kaleici, Antalya</td>\n",
       "      <td>\\n3.1 miles from center\\n</td>\n",
       "      <td>\\nSotetsu Fresa Inn Ueno-Okachimachi\\n</td>\n",
       "      <td>Old Town Kaleici, Antalya</td>\n",
       "      <td>Awesome</td>\n",
       "      <td>576 reviews</td>\n",
       "    </tr>\n",
       "    <tr>\n",
       "      <th>912</th>\n",
       "      <td>84</td>\n",
       "      <td>Konyaalti Beach, Antalya</td>\n",
       "      <td>\\n2.4 miles from center\\n</td>\n",
       "      <td>\\nDaiwa Roynet Hotel Shimbashi\\n</td>\n",
       "      <td>Konyaalti Beach, Antalya</td>\n",
       "      <td>Very Good</td>\n",
       "      <td>306 reviews</td>\n",
       "    </tr>\n",
       "    <tr>\n",
       "      <th>913</th>\n",
       "      <td>85</td>\n",
       "      <td>Antalya</td>\n",
       "      <td>\\n3.1 miles from center\\n</td>\n",
       "      <td>\\nHOTEL REX Akasaka\\n</td>\n",
       "      <td>Antalya</td>\n",
       "      <td>Very Good</td>\n",
       "      <td>929 reviews</td>\n",
       "    </tr>\n",
       "    <tr>\n",
       "      <th>914</th>\n",
       "      <td>86</td>\n",
       "      <td>Antalya</td>\n",
       "      <td>\\n2.4 miles from center\\n</td>\n",
       "      <td>\\nTASUKI\\n</td>\n",
       "      <td>Antalya</td>\n",
       "      <td>Excellent</td>\n",
       "      <td>686 reviews</td>\n",
       "    </tr>\n",
       "    <tr>\n",
       "      <th>915</th>\n",
       "      <td>87</td>\n",
       "      <td>Konyaalti Beach, Antalya</td>\n",
       "      <td>\\n3.1 miles from center\\n</td>\n",
       "      <td>\\nHotel Amanek Kamata-Eki Mae\\n</td>\n",
       "      <td>Konyaalti Beach, Antalya</td>\n",
       "      <td>Very Good</td>\n",
       "      <td>249 reviews</td>\n",
       "    </tr>\n",
       "  </tbody>\n",
       "</table>\n",
       "<p>916 rows × 7 columns</p>\n",
       "</div>"
      ],
      "text/plain": [
       "     Unnamed: 0                        city                   distance  \\\n",
       "0             0             Fatih, Istanbul    \\n1 miles from center\\n   \n",
       "1             1             Fatih, Istanbul  \\n3.1 miles from center\\n   \n",
       "2             2           Beyoglu, Istanbul    \\n1 miles from center\\n   \n",
       "3             3           Beyoglu, Istanbul  \\n3.1 miles from center\\n   \n",
       "4             4     European Side, Istanbul    \\n2 miles from center\\n   \n",
       "..          ...                         ...                        ...   \n",
       "911          83   Old Town Kaleici, Antalya  \\n3.1 miles from center\\n   \n",
       "912          84    Konyaalti Beach, Antalya  \\n2.4 miles from center\\n   \n",
       "913          85                     Antalya  \\n3.1 miles from center\\n   \n",
       "914          86                     Antalya  \\n2.4 miles from center\\n   \n",
       "915          87    Konyaalti Beach, Antalya  \\n3.1 miles from center\\n   \n",
       "\n",
       "                                hotel_names                    location  \\\n",
       "0                     \\nMardia city hotel\\n             Fatih, Istanbul   \n",
       "1                  \\nDanis Hotel Istanbul\\n             Fatih, Istanbul   \n",
       "2                       \\nCZN Burak Hotel\\n           Beyoglu, Istanbul   \n",
       "3                \\nTHE TANGO HOTEL TAKSİM\\n           Beyoglu, Istanbul   \n",
       "4             \\nRamada Istanbul Alibeykoy\\n     European Side, Istanbul   \n",
       "..                                      ...                         ...   \n",
       "911  \\nSotetsu Fresa Inn Ueno-Okachimachi\\n   Old Town Kaleici, Antalya   \n",
       "912        \\nDaiwa Roynet Hotel Shimbashi\\n    Konyaalti Beach, Antalya   \n",
       "913                   \\nHOTEL REX Akasaka\\n                     Antalya   \n",
       "914                              \\nTASUKI\\n                     Antalya   \n",
       "915         \\nHotel Amanek Kamata-Eki Mae\\n    Konyaalti Beach, Antalya   \n",
       "\n",
       "               rate review_numbers  \n",
       "0     Review score     55 reviews   \n",
       "1      Exceptional     15 reviews   \n",
       "2        Very Good     63 reviews   \n",
       "3          Awesome     26 reviews   \n",
       "4        Excellent    216 reviews   \n",
       "..              ...            ...  \n",
       "911        Awesome    576 reviews   \n",
       "912      Very Good    306 reviews   \n",
       "913      Very Good    929 reviews   \n",
       "914      Excellent    686 reviews   \n",
       "915      Very Good    249 reviews   \n",
       "\n",
       "[916 rows x 7 columns]"
      ]
     },
     "execution_count": 10,
     "metadata": {},
     "output_type": "execute_result"
    }
   ],
   "source": [
    "df=df=pd.read_csv(\"/Users/coco/Desktop/booking.csv\")\n",
    "df"
   ]
  },
  {
   "cell_type": "markdown",
   "id": "278a2be9-9557-49fa-8b3b-19b7b5fababe",
   "metadata": {},
   "source": [
    "<a id = \"3\" ></a>\n",
    "# <span style=\"font-family:serif; font-size:22px;\"> 3.1 Umgang mit fehlenden Werten</span>\n",
    "<a id = \"Preprocessing & Cleaning\" ></a>"
   ]
  },
  {
   "cell_type": "code",
   "execution_count": 12,
   "id": "bcfbc345-c4e6-4085-b3f0-95d942275394",
   "metadata": {},
   "outputs": [
    {
     "name": "stdout",
     "output_type": "stream",
     "text": [
      "<class 'pandas.core.frame.DataFrame'>\n",
      "RangeIndex: 916 entries, 0 to 915\n",
      "Data columns (total 7 columns):\n",
      " #   Column          Non-Null Count  Dtype \n",
      "---  ------          --------------  ----- \n",
      " 0   Unnamed: 0      916 non-null    int64 \n",
      " 1   city            916 non-null    object\n",
      " 2   distance        916 non-null    object\n",
      " 3   hotel_names     916 non-null    object\n",
      " 4   location        916 non-null    object\n",
      " 5   rate            916 non-null    object\n",
      " 6   review_numbers  916 non-null    object\n",
      "dtypes: int64(1), object(6)\n",
      "memory usage: 50.2+ KB\n",
      "None\n"
     ]
    }
   ],
   "source": [
    "print(df.info())"
   ]
  },
  {
   "cell_type": "code",
   "execution_count": 13,
   "id": "4b4c82ed-f970-4791-b70b-aad51dfb91dd",
   "metadata": {},
   "outputs": [
    {
     "name": "stdout",
     "output_type": "stream",
     "text": [
      "Unnamed: 0        0\n",
      "city              0\n",
      "distance          0\n",
      "hotel_names       0\n",
      "location          0\n",
      "rate              0\n",
      "review_numbers    0\n",
      "dtype: int64\n"
     ]
    }
   ],
   "source": [
    "print(df.isnull().sum())"
   ]
  },
  {
   "cell_type": "markdown",
   "id": "90abeff3-9538-4a5e-8489-2f604b2e97bb",
   "metadata": {},
   "source": [
    "\n",
    "<a id = \"3\" ></a>\n",
    "# <span style=\"font-family:serif; font-size:22px;\"> 3.2 Datenbereinigung und Transformation</span>\n",
    "<a id = \"Preprocessing & Cleaning\" ></a>\n"
   ]
  },
  {
   "cell_type": "code",
   "execution_count": 15,
   "id": "9b2459e5-daa6-4c71-b653-29e7f3e64377",
   "metadata": {},
   "outputs": [],
   "source": [
    "def convert_distance_to_km(text):\n",
    "    try:\n",
    "        text = str(text).strip().lower()\n",
    "        if 'mile' in text:\n",
    "            value = float(text.replace('miles from center', '').replace('\\n', '').strip())\n",
    "            return value * 1.60934  # miles to km\n",
    "        elif 'feet' in text:\n",
    "            value = float(text.replace('feet from center', '').replace('\\n', '').strip())\n",
    "            return value * 0.0003048  # feet to km\n",
    "        else:\n",
    "            return None  # falls Format nicht erkannt\n",
    "    except:\n",
    "        return None\n",
    "\n",
    "df['distance_km'] = df['distance'].apply(convert_distance_to_km)\n"
   ]
  },
  {
   "cell_type": "code",
   "execution_count": 16,
   "id": "2b05180d-360e-4123-863c-37e4861a741f",
   "metadata": {},
   "outputs": [],
   "source": [
    "df['distance_km']=df['distance_km'].astype(float)"
   ]
  },
  {
   "cell_type": "markdown",
   "id": "22450cd3-13a0-4161-84f9-00fbbafc9677",
   "metadata": {},
   "source": [
    "* Da die Spalte mit den distance zwei Einheiten enthält müsste es erstmal in KM gewandelt werden und dann den Text weg bekommen. "
   ]
  },
  {
   "cell_type": "code",
   "execution_count": 18,
   "id": "b4fb842b-b54f-4426-9dbe-33d9a4d458aa",
   "metadata": {},
   "outputs": [
    {
     "data": {
      "text/html": [
       "<div>\n",
       "<style scoped>\n",
       "    .dataframe tbody tr th:only-of-type {\n",
       "        vertical-align: middle;\n",
       "    }\n",
       "\n",
       "    .dataframe tbody tr th {\n",
       "        vertical-align: top;\n",
       "    }\n",
       "\n",
       "    .dataframe thead th {\n",
       "        text-align: right;\n",
       "    }\n",
       "</style>\n",
       "<table border=\"1\" class=\"dataframe\">\n",
       "  <thead>\n",
       "    <tr style=\"text-align: right;\">\n",
       "      <th></th>\n",
       "      <th>Unnamed: 0</th>\n",
       "      <th>city</th>\n",
       "      <th>distance</th>\n",
       "      <th>hotel_names</th>\n",
       "      <th>location</th>\n",
       "      <th>rate</th>\n",
       "      <th>review_numbers</th>\n",
       "      <th>distance_km</th>\n",
       "    </tr>\n",
       "  </thead>\n",
       "  <tbody>\n",
       "    <tr>\n",
       "      <th>0</th>\n",
       "      <td>0</td>\n",
       "      <td>Fatih, Istanbul</td>\n",
       "      <td>\\n1 miles from center\\n</td>\n",
       "      <td>\\nMardia city hotel\\n</td>\n",
       "      <td>Fatih, Istanbul</td>\n",
       "      <td>Review score</td>\n",
       "      <td>55 reviews</td>\n",
       "      <td>1.609340</td>\n",
       "    </tr>\n",
       "    <tr>\n",
       "      <th>1</th>\n",
       "      <td>1</td>\n",
       "      <td>Fatih, Istanbul</td>\n",
       "      <td>\\n3.1 miles from center\\n</td>\n",
       "      <td>\\nDanis Hotel Istanbul\\n</td>\n",
       "      <td>Fatih, Istanbul</td>\n",
       "      <td>Exceptional</td>\n",
       "      <td>15 reviews</td>\n",
       "      <td>4.988954</td>\n",
       "    </tr>\n",
       "    <tr>\n",
       "      <th>2</th>\n",
       "      <td>2</td>\n",
       "      <td>Beyoglu, Istanbul</td>\n",
       "      <td>\\n1 miles from center\\n</td>\n",
       "      <td>\\nCZN Burak Hotel\\n</td>\n",
       "      <td>Beyoglu, Istanbul</td>\n",
       "      <td>Very Good</td>\n",
       "      <td>63 reviews</td>\n",
       "      <td>1.609340</td>\n",
       "    </tr>\n",
       "    <tr>\n",
       "      <th>3</th>\n",
       "      <td>3</td>\n",
       "      <td>Beyoglu, Istanbul</td>\n",
       "      <td>\\n3.1 miles from center\\n</td>\n",
       "      <td>\\nTHE TANGO HOTEL TAKSİM\\n</td>\n",
       "      <td>Beyoglu, Istanbul</td>\n",
       "      <td>Awesome</td>\n",
       "      <td>26 reviews</td>\n",
       "      <td>4.988954</td>\n",
       "    </tr>\n",
       "    <tr>\n",
       "      <th>4</th>\n",
       "      <td>4</td>\n",
       "      <td>European Side, Istanbul</td>\n",
       "      <td>\\n2 miles from center\\n</td>\n",
       "      <td>\\nRamada Istanbul Alibeykoy\\n</td>\n",
       "      <td>European Side, Istanbul</td>\n",
       "      <td>Excellent</td>\n",
       "      <td>216 reviews</td>\n",
       "      <td>3.218680</td>\n",
       "    </tr>\n",
       "  </tbody>\n",
       "</table>\n",
       "</div>"
      ],
      "text/plain": [
       "   Unnamed: 0                      city                   distance  \\\n",
       "0           0           Fatih, Istanbul    \\n1 miles from center\\n   \n",
       "1           1           Fatih, Istanbul  \\n3.1 miles from center\\n   \n",
       "2           2         Beyoglu, Istanbul    \\n1 miles from center\\n   \n",
       "3           3         Beyoglu, Istanbul  \\n3.1 miles from center\\n   \n",
       "4           4   European Side, Istanbul    \\n2 miles from center\\n   \n",
       "\n",
       "                     hotel_names                  location            rate  \\\n",
       "0          \\nMardia city hotel\\n           Fatih, Istanbul   Review score    \n",
       "1       \\nDanis Hotel Istanbul\\n           Fatih, Istanbul    Exceptional    \n",
       "2            \\nCZN Burak Hotel\\n         Beyoglu, Istanbul      Very Good    \n",
       "3     \\nTHE TANGO HOTEL TAKSİM\\n         Beyoglu, Istanbul        Awesome    \n",
       "4  \\nRamada Istanbul Alibeykoy\\n   European Side, Istanbul      Excellent    \n",
       "\n",
       "  review_numbers  distance_km  \n",
       "0    55 reviews      1.609340  \n",
       "1    15 reviews      4.988954  \n",
       "2    63 reviews      1.609340  \n",
       "3    26 reviews      4.988954  \n",
       "4   216 reviews      3.218680  "
      ]
     },
     "execution_count": 18,
     "metadata": {},
     "output_type": "execute_result"
    }
   ],
   "source": [
    "df.head(5)"
   ]
  },
  {
   "cell_type": "code",
   "execution_count": 19,
   "id": "c9178bb4-9ef4-49a0-96f5-9c11f3b1728f",
   "metadata": {
    "scrolled": true
   },
   "outputs": [
    {
     "data": {
      "text/plain": [
       "rate\n",
       " Very Good        268\n",
       " Excellent        216\n",
       " Good             166\n",
       " Awesome          127\n",
       "dubai             100\n",
       " Review score      22\n",
       " Exceptional       17\n",
       "Name: count, dtype: int64"
      ]
     },
     "execution_count": 19,
     "metadata": {},
     "output_type": "execute_result"
    }
   ],
   "source": [
    "df[\"rate\"].value_counts()"
   ]
  },
  {
   "cell_type": "code",
   "execution_count": 20,
   "id": "5cb096a8-a98d-41ee-9147-1a7f890e0d29",
   "metadata": {},
   "outputs": [],
   "source": [
    "valid_ratings = ['very good', 'excellent', 'good', 'awesome', 'exceptional']\n",
    "df['rate'] = df['rate'].str.strip().str.lower()"
   ]
  },
  {
   "cell_type": "code",
   "execution_count": 21,
   "id": "36ee9ece-9c15-4cd6-99fd-9d70756a93f6",
   "metadata": {},
   "outputs": [],
   "source": [
    "df['valid_rate'] = df['rate'].apply(lambda x: x if x.lower() in valid_ratings else 'NaN')"
   ]
  },
  {
   "cell_type": "code",
   "execution_count": 22,
   "id": "95032d70-36f4-496b-a278-e0fb5495e05e",
   "metadata": {},
   "outputs": [],
   "source": [
    "rating_map = {\n",
    "    'very good': 4,\n",
    "    'excellent': 5,\n",
    "    'good': 3,\n",
    "    'awesome': 6,\n",
    "    'exceptional': 7\n",
    "}\n",
    "\n",
    "df['valid_rate'] = df['valid_rate'].map(rating_map)"
   ]
  },
  {
   "cell_type": "code",
   "execution_count": 23,
   "id": "f04d5c53-d4e5-40eb-b423-c6a92440e9ad",
   "metadata": {},
   "outputs": [
    {
     "data": {
      "text/html": [
       "<div>\n",
       "<style scoped>\n",
       "    .dataframe tbody tr th:only-of-type {\n",
       "        vertical-align: middle;\n",
       "    }\n",
       "\n",
       "    .dataframe tbody tr th {\n",
       "        vertical-align: top;\n",
       "    }\n",
       "\n",
       "    .dataframe thead th {\n",
       "        text-align: right;\n",
       "    }\n",
       "</style>\n",
       "<table border=\"1\" class=\"dataframe\">\n",
       "  <thead>\n",
       "    <tr style=\"text-align: right;\">\n",
       "      <th></th>\n",
       "      <th>Unnamed: 0</th>\n",
       "      <th>city</th>\n",
       "      <th>distance</th>\n",
       "      <th>hotel_names</th>\n",
       "      <th>location</th>\n",
       "      <th>rate</th>\n",
       "      <th>review_numbers</th>\n",
       "      <th>distance_km</th>\n",
       "      <th>valid_rate</th>\n",
       "    </tr>\n",
       "  </thead>\n",
       "  <tbody>\n",
       "    <tr>\n",
       "      <th>0</th>\n",
       "      <td>0</td>\n",
       "      <td>Fatih, Istanbul</td>\n",
       "      <td>\\n1 miles from center\\n</td>\n",
       "      <td>\\nMardia city hotel\\n</td>\n",
       "      <td>Fatih, Istanbul</td>\n",
       "      <td>review score</td>\n",
       "      <td>55 reviews</td>\n",
       "      <td>1.609340</td>\n",
       "      <td>NaN</td>\n",
       "    </tr>\n",
       "    <tr>\n",
       "      <th>1</th>\n",
       "      <td>1</td>\n",
       "      <td>Fatih, Istanbul</td>\n",
       "      <td>\\n3.1 miles from center\\n</td>\n",
       "      <td>\\nDanis Hotel Istanbul\\n</td>\n",
       "      <td>Fatih, Istanbul</td>\n",
       "      <td>exceptional</td>\n",
       "      <td>15 reviews</td>\n",
       "      <td>4.988954</td>\n",
       "      <td>7.0</td>\n",
       "    </tr>\n",
       "    <tr>\n",
       "      <th>2</th>\n",
       "      <td>2</td>\n",
       "      <td>Beyoglu, Istanbul</td>\n",
       "      <td>\\n1 miles from center\\n</td>\n",
       "      <td>\\nCZN Burak Hotel\\n</td>\n",
       "      <td>Beyoglu, Istanbul</td>\n",
       "      <td>very good</td>\n",
       "      <td>63 reviews</td>\n",
       "      <td>1.609340</td>\n",
       "      <td>4.0</td>\n",
       "    </tr>\n",
       "    <tr>\n",
       "      <th>3</th>\n",
       "      <td>3</td>\n",
       "      <td>Beyoglu, Istanbul</td>\n",
       "      <td>\\n3.1 miles from center\\n</td>\n",
       "      <td>\\nTHE TANGO HOTEL TAKSİM\\n</td>\n",
       "      <td>Beyoglu, Istanbul</td>\n",
       "      <td>awesome</td>\n",
       "      <td>26 reviews</td>\n",
       "      <td>4.988954</td>\n",
       "      <td>6.0</td>\n",
       "    </tr>\n",
       "    <tr>\n",
       "      <th>4</th>\n",
       "      <td>4</td>\n",
       "      <td>European Side, Istanbul</td>\n",
       "      <td>\\n2 miles from center\\n</td>\n",
       "      <td>\\nRamada Istanbul Alibeykoy\\n</td>\n",
       "      <td>European Side, Istanbul</td>\n",
       "      <td>excellent</td>\n",
       "      <td>216 reviews</td>\n",
       "      <td>3.218680</td>\n",
       "      <td>5.0</td>\n",
       "    </tr>\n",
       "  </tbody>\n",
       "</table>\n",
       "</div>"
      ],
      "text/plain": [
       "   Unnamed: 0                      city                   distance  \\\n",
       "0           0           Fatih, Istanbul    \\n1 miles from center\\n   \n",
       "1           1           Fatih, Istanbul  \\n3.1 miles from center\\n   \n",
       "2           2         Beyoglu, Istanbul    \\n1 miles from center\\n   \n",
       "3           3         Beyoglu, Istanbul  \\n3.1 miles from center\\n   \n",
       "4           4   European Side, Istanbul    \\n2 miles from center\\n   \n",
       "\n",
       "                     hotel_names                  location          rate  \\\n",
       "0          \\nMardia city hotel\\n           Fatih, Istanbul  review score   \n",
       "1       \\nDanis Hotel Istanbul\\n           Fatih, Istanbul   exceptional   \n",
       "2            \\nCZN Burak Hotel\\n         Beyoglu, Istanbul     very good   \n",
       "3     \\nTHE TANGO HOTEL TAKSİM\\n         Beyoglu, Istanbul       awesome   \n",
       "4  \\nRamada Istanbul Alibeykoy\\n   European Side, Istanbul     excellent   \n",
       "\n",
       "  review_numbers  distance_km  valid_rate  \n",
       "0    55 reviews      1.609340         NaN  \n",
       "1    15 reviews      4.988954         7.0  \n",
       "2    63 reviews      1.609340         4.0  \n",
       "3    26 reviews      4.988954         6.0  \n",
       "4   216 reviews      3.218680         5.0  "
      ]
     },
     "execution_count": 23,
     "metadata": {},
     "output_type": "execute_result"
    }
   ],
   "source": [
    "df.head(5)"
   ]
  },
  {
   "cell_type": "markdown",
   "id": "17d29b70-bce7-43cd-945d-072489673005",
   "metadata": {},
   "source": [
    "<a id = \"3\" ></a>\n",
    "# <span style=\"font-family:serif; font-size:22px;\"> 3.3 fehlende Werte bearbeiten</span>\n",
    "<a id = \"Korrelation\" ></a>"
   ]
  },
  {
   "cell_type": "code",
   "execution_count": 25,
   "id": "5e77e71f-2927-4ffa-8a8f-5706a8028c90",
   "metadata": {},
   "outputs": [
    {
     "name": "stdout",
     "output_type": "stream",
     "text": [
      "Unnamed: 0          0\n",
      "city                0\n",
      "distance            0\n",
      "hotel_names         0\n",
      "location            0\n",
      "rate                0\n",
      "review_numbers      0\n",
      "distance_km        80\n",
      "valid_rate        122\n",
      "dtype: int64\n"
     ]
    }
   ],
   "source": [
    "print(df.isnull().sum())"
   ]
  },
  {
   "cell_type": "code",
   "execution_count": 26,
   "id": "b3327fe3-00ab-4f92-be57-d6cb467d8994",
   "metadata": {
    "scrolled": true
   },
   "outputs": [
    {
     "data": {
      "text/html": [
       "<div>\n",
       "<style scoped>\n",
       "    .dataframe tbody tr th:only-of-type {\n",
       "        vertical-align: middle;\n",
       "    }\n",
       "\n",
       "    .dataframe tbody tr th {\n",
       "        vertical-align: top;\n",
       "    }\n",
       "\n",
       "    .dataframe thead th {\n",
       "        text-align: right;\n",
       "    }\n",
       "</style>\n",
       "<table border=\"1\" class=\"dataframe\">\n",
       "  <thead>\n",
       "    <tr style=\"text-align: right;\">\n",
       "      <th></th>\n",
       "      <th>Unnamed: 0</th>\n",
       "      <th>city</th>\n",
       "      <th>distance</th>\n",
       "      <th>hotel_names</th>\n",
       "      <th>location</th>\n",
       "      <th>rate</th>\n",
       "      <th>review_numbers</th>\n",
       "      <th>distance_km</th>\n",
       "      <th>valid_rate</th>\n",
       "    </tr>\n",
       "  </thead>\n",
       "  <tbody>\n",
       "    <tr>\n",
       "      <th>0</th>\n",
       "      <td>0</td>\n",
       "      <td>Fatih, Istanbul</td>\n",
       "      <td>\\n1 miles from center\\n</td>\n",
       "      <td>\\nMardia city hotel\\n</td>\n",
       "      <td>Fatih, Istanbul</td>\n",
       "      <td>review score</td>\n",
       "      <td>55 reviews</td>\n",
       "      <td>1.609340</td>\n",
       "      <td>NaN</td>\n",
       "    </tr>\n",
       "    <tr>\n",
       "      <th>12</th>\n",
       "      <td>12</td>\n",
       "      <td>Beyoglu, Istanbul</td>\n",
       "      <td>\\n1,300 feet from center\\n</td>\n",
       "      <td>\\nNewgalatagrace\\n</td>\n",
       "      <td>Beyoglu, Istanbul</td>\n",
       "      <td>good</td>\n",
       "      <td>122 reviews</td>\n",
       "      <td>NaN</td>\n",
       "      <td>3.0</td>\n",
       "    </tr>\n",
       "    <tr>\n",
       "      <th>27</th>\n",
       "      <td>27</td>\n",
       "      <td>Fatih, Istanbul</td>\n",
       "      <td>\\n1,300 feet from center\\n</td>\n",
       "      <td>\\nDivas Konak\\n</td>\n",
       "      <td>Fatih, Istanbul</td>\n",
       "      <td>good</td>\n",
       "      <td>21 reviews</td>\n",
       "      <td>NaN</td>\n",
       "      <td>3.0</td>\n",
       "    </tr>\n",
       "    <tr>\n",
       "      <th>29</th>\n",
       "      <td>29</td>\n",
       "      <td>Fatih, Istanbul</td>\n",
       "      <td>\\n1,950 feet from center\\n</td>\n",
       "      <td>\\nHotel Empress Zoe\\n</td>\n",
       "      <td>Fatih, Istanbul</td>\n",
       "      <td>awesome</td>\n",
       "      <td>527 reviews</td>\n",
       "      <td>NaN</td>\n",
       "      <td>6.0</td>\n",
       "    </tr>\n",
       "    <tr>\n",
       "      <th>30</th>\n",
       "      <td>30</td>\n",
       "      <td>Fatih, Istanbul</td>\n",
       "      <td>\\n2,450 feet from center\\n</td>\n",
       "      <td>\\n4ANGELS HOTEL\\n</td>\n",
       "      <td>Fatih, Istanbul</td>\n",
       "      <td>excellent</td>\n",
       "      <td>241 reviews</td>\n",
       "      <td>NaN</td>\n",
       "      <td>5.0</td>\n",
       "    </tr>\n",
       "    <tr>\n",
       "      <th>...</th>\n",
       "      <td>...</td>\n",
       "      <td>...</td>\n",
       "      <td>...</td>\n",
       "      <td>...</td>\n",
       "      <td>...</td>\n",
       "      <td>...</td>\n",
       "      <td>...</td>\n",
       "      <td>...</td>\n",
       "      <td>...</td>\n",
       "    </tr>\n",
       "    <tr>\n",
       "      <th>812</th>\n",
       "      <td>79</td>\n",
       "      <td>Old Town Kaleici, Antalya</td>\n",
       "      <td>\\n3,100 feet from center\\n</td>\n",
       "      <td>\\nEfsali Hotel Kaleiçi\\n</td>\n",
       "      <td>Old Town Kaleici, Antalya</td>\n",
       "      <td>very good</td>\n",
       "      <td>414 reviews</td>\n",
       "      <td>NaN</td>\n",
       "      <td>4.0</td>\n",
       "    </tr>\n",
       "    <tr>\n",
       "      <th>814</th>\n",
       "      <td>81</td>\n",
       "      <td>Antalya</td>\n",
       "      <td>\\n3.7 miles from center\\n</td>\n",
       "      <td>\\nBros Plus Homes\\n</td>\n",
       "      <td>Antalya</td>\n",
       "      <td>review score</td>\n",
       "      <td>218 reviews</td>\n",
       "      <td>5.954558</td>\n",
       "      <td>NaN</td>\n",
       "    </tr>\n",
       "    <tr>\n",
       "      <th>820</th>\n",
       "      <td>87</td>\n",
       "      <td>Konyaalti Beach, Antalya</td>\n",
       "      <td>\\n1,650 feet from center\\n</td>\n",
       "      <td>\\nBeyaz Melek Hotel\\n</td>\n",
       "      <td>Konyaalti Beach, Antalya</td>\n",
       "      <td>excellent</td>\n",
       "      <td>168 reviews</td>\n",
       "      <td>NaN</td>\n",
       "      <td>5.0</td>\n",
       "    </tr>\n",
       "    <tr>\n",
       "      <th>824</th>\n",
       "      <td>91</td>\n",
       "      <td>Old Town Kaleici, Antalya</td>\n",
       "      <td>\\n3,100 feet from center\\n</td>\n",
       "      <td>\\nDelight Deluxe Hotel &amp; Spa\\n</td>\n",
       "      <td>Old Town Kaleici, Antalya</td>\n",
       "      <td>review score</td>\n",
       "      <td>44 reviews</td>\n",
       "      <td>NaN</td>\n",
       "      <td>NaN</td>\n",
       "    </tr>\n",
       "    <tr>\n",
       "      <th>826</th>\n",
       "      <td>93</td>\n",
       "      <td>Antalya</td>\n",
       "      <td>\\n3.1 miles from center\\n</td>\n",
       "      <td>\\nÜnaloğlu Emlak Günlük Haftalık Konaklama\\n</td>\n",
       "      <td>Antalya</td>\n",
       "      <td>review score</td>\n",
       "      <td>179 reviews</td>\n",
       "      <td>4.988954</td>\n",
       "      <td>NaN</td>\n",
       "    </tr>\n",
       "  </tbody>\n",
       "</table>\n",
       "<p>200 rows × 9 columns</p>\n",
       "</div>"
      ],
      "text/plain": [
       "     Unnamed: 0                        city                    distance  \\\n",
       "0             0             Fatih, Istanbul     \\n1 miles from center\\n   \n",
       "12           12           Beyoglu, Istanbul  \\n1,300 feet from center\\n   \n",
       "27           27             Fatih, Istanbul  \\n1,300 feet from center\\n   \n",
       "29           29             Fatih, Istanbul  \\n1,950 feet from center\\n   \n",
       "30           30             Fatih, Istanbul  \\n2,450 feet from center\\n   \n",
       "..          ...                         ...                         ...   \n",
       "812          79   Old Town Kaleici, Antalya  \\n3,100 feet from center\\n   \n",
       "814          81                     Antalya   \\n3.7 miles from center\\n   \n",
       "820          87    Konyaalti Beach, Antalya  \\n1,650 feet from center\\n   \n",
       "824          91   Old Town Kaleici, Antalya  \\n3,100 feet from center\\n   \n",
       "826          93                     Antalya   \\n3.1 miles from center\\n   \n",
       "\n",
       "                                      hotel_names                    location  \\\n",
       "0                           \\nMardia city hotel\\n             Fatih, Istanbul   \n",
       "12                             \\nNewgalatagrace\\n           Beyoglu, Istanbul   \n",
       "27                                \\nDivas Konak\\n             Fatih, Istanbul   \n",
       "29                          \\nHotel Empress Zoe\\n             Fatih, Istanbul   \n",
       "30                              \\n4ANGELS HOTEL\\n             Fatih, Istanbul   \n",
       "..                                            ...                         ...   \n",
       "812                      \\nEfsali Hotel Kaleiçi\\n   Old Town Kaleici, Antalya   \n",
       "814                           \\nBros Plus Homes\\n                     Antalya   \n",
       "820                         \\nBeyaz Melek Hotel\\n    Konyaalti Beach, Antalya   \n",
       "824                \\nDelight Deluxe Hotel & Spa\\n   Old Town Kaleici, Antalya   \n",
       "826  \\nÜnaloğlu Emlak Günlük Haftalık Konaklama\\n                     Antalya   \n",
       "\n",
       "             rate review_numbers  distance_km  valid_rate  \n",
       "0    review score    55 reviews      1.609340         NaN  \n",
       "12           good   122 reviews           NaN         3.0  \n",
       "27           good    21 reviews           NaN         3.0  \n",
       "29        awesome   527 reviews           NaN         6.0  \n",
       "30      excellent   241 reviews           NaN         5.0  \n",
       "..            ...            ...          ...         ...  \n",
       "812     very good   414 reviews           NaN         4.0  \n",
       "814  review score   218 reviews      5.954558         NaN  \n",
       "820     excellent   168 reviews           NaN         5.0  \n",
       "824  review score    44 reviews           NaN         NaN  \n",
       "826  review score   179 reviews      4.988954         NaN  \n",
       "\n",
       "[200 rows x 9 columns]"
      ]
     },
     "execution_count": 26,
     "metadata": {},
     "output_type": "execute_result"
    }
   ],
   "source": [
    "df[df['distance_km'].isna() | df['valid_rate'].isna()]"
   ]
  },
  {
   "cell_type": "markdown",
   "id": "526c1c7c-c0be-462d-bfe6-8b3188847aac",
   "metadata": {},
   "source": [
    "* Da die fehlende Spalten nicht die gleiche sind und mit löschung ich 22% der Daten verliere werde ich die NaN mit mean sowie median erstezen. "
   ]
  },
  {
   "cell_type": "code",
   "execution_count": 28,
   "id": "3614abb0-42a0-48f6-9baa-fdabe42d344c",
   "metadata": {},
   "outputs": [],
   "source": [
    "df['distance_km'] = df['distance_km'].fillna(df['distance_km'].median())"
   ]
  },
  {
   "cell_type": "code",
   "execution_count": 29,
   "id": "1db48bd5-3b8c-4e70-b91e-7fc925302400",
   "metadata": {},
   "outputs": [],
   "source": [
    "df['valid_rate'] = df['valid_rate'].fillna(df['valid_rate'].mean())"
   ]
  },
  {
   "cell_type": "code",
   "execution_count": 30,
   "id": "68e0c4b1-69ba-4a88-ad1e-8c103a7ee6cb",
   "metadata": {
    "scrolled": true
   },
   "outputs": [
    {
     "name": "stdout",
     "output_type": "stream",
     "text": [
      "Unnamed: 0        0\n",
      "city              0\n",
      "distance          0\n",
      "hotel_names       0\n",
      "location          0\n",
      "rate              0\n",
      "review_numbers    0\n",
      "distance_km       0\n",
      "valid_rate        0\n",
      "dtype: int64\n"
     ]
    }
   ],
   "source": [
    "print(df.isnull().sum())"
   ]
  },
  {
   "cell_type": "markdown",
   "id": "594a0e1e-c81c-4aba-b45a-d43db028e519",
   "metadata": {},
   "source": [
    "<a id = \"3\" ></a>\n",
    "# <span style=\"font-family:serif; font-size:22px;\"> 3.4 Kategorien vereinheitlichen\n",
    "</span>\n",
    "<a id = \"kategorien\" ></a>"
   ]
  },
  {
   "cell_type": "markdown",
   "id": "bd7d870f-ce37-4920-839b-df48e8b64f80",
   "metadata": {},
   "source": [
    "* um die City spalte bearbeiten zur könne müssen die Gleiche städte vereinheitlicht werten "
   ]
  },
  {
   "cell_type": "code",
   "execution_count": 33,
   "id": "a2a4f333-1aeb-40f4-b6f0-aef6f4b1b15a",
   "metadata": {},
   "outputs": [
    {
     "data": {
      "text/plain": [
       "city\n",
       "bangkok                        100\n",
       " Old Town Kaleici, Antalya      69\n",
       " Fatih, Istanbul                46\n",
       " Konyaalti Beach, Antalya       38\n",
       " Manhattan, New York            35\n",
       "                              ... \n",
       " Dubai Internet City, Dubai      1\n",
       " Beach & Coast, Dubai            1\n",
       " Al Qusais, Dubai                1\n",
       " Al Sufouh, Dubai                1\n",
       " Singapore River, Singapore      1\n",
       "Name: count, Length: 121, dtype: int64"
      ]
     },
     "execution_count": 33,
     "metadata": {},
     "output_type": "execute_result"
    }
   ],
   "source": [
    "df [\"city\"].value_counts()"
   ]
  },
  {
   "cell_type": "code",
   "execution_count": 34,
   "id": "af7d417f-8216-4526-bf9e-7675efa79f9e",
   "metadata": {},
   "outputs": [],
   "source": [
    "df['main_city'] = df['city'].str.split(',').str[-1].str.strip()"
   ]
  },
  {
   "cell_type": "code",
   "execution_count": 35,
   "id": "bc1c9ed4-a879-4221-b431-365ee3e4f9b7",
   "metadata": {},
   "outputs": [
    {
     "name": "stdout",
     "output_type": "stream",
     "text": [
      "main_city\n",
      "Antalya         183\n",
      "Istanbul        100\n",
      "Kuala Lumpur    100\n",
      "Singapore       100\n",
      "Dubai           100\n",
      "bangkok         100\n",
      "Paris            97\n",
      "New York         92\n",
      "London           44\n",
      "Name: count, dtype: int64\n"
     ]
    }
   ],
   "source": [
    "print(df['main_city'].value_counts())\n"
   ]
  },
  {
   "cell_type": "code",
   "execution_count": 36,
   "id": "2ec71602-210c-4f95-9e32-5568aebd4eca",
   "metadata": {},
   "outputs": [
    {
     "data": {
      "text/html": [
       "<div>\n",
       "<style scoped>\n",
       "    .dataframe tbody tr th:only-of-type {\n",
       "        vertical-align: middle;\n",
       "    }\n",
       "\n",
       "    .dataframe tbody tr th {\n",
       "        vertical-align: top;\n",
       "    }\n",
       "\n",
       "    .dataframe thead th {\n",
       "        text-align: right;\n",
       "    }\n",
       "</style>\n",
       "<table border=\"1\" class=\"dataframe\">\n",
       "  <thead>\n",
       "    <tr style=\"text-align: right;\">\n",
       "      <th></th>\n",
       "      <th>Unnamed: 0</th>\n",
       "      <th>city</th>\n",
       "      <th>distance</th>\n",
       "      <th>hotel_names</th>\n",
       "      <th>location</th>\n",
       "      <th>rate</th>\n",
       "      <th>review_numbers</th>\n",
       "      <th>distance_km</th>\n",
       "      <th>valid_rate</th>\n",
       "      <th>main_city</th>\n",
       "    </tr>\n",
       "  </thead>\n",
       "  <tbody>\n",
       "    <tr>\n",
       "      <th>0</th>\n",
       "      <td>0</td>\n",
       "      <td>Fatih, Istanbul</td>\n",
       "      <td>\\n1 miles from center\\n</td>\n",
       "      <td>\\nMardia city hotel\\n</td>\n",
       "      <td>Fatih, Istanbul</td>\n",
       "      <td>review score</td>\n",
       "      <td>55 reviews</td>\n",
       "      <td>1.609340</td>\n",
       "      <td>4.447103</td>\n",
       "      <td>Istanbul</td>\n",
       "    </tr>\n",
       "    <tr>\n",
       "      <th>1</th>\n",
       "      <td>1</td>\n",
       "      <td>Fatih, Istanbul</td>\n",
       "      <td>\\n3.1 miles from center\\n</td>\n",
       "      <td>\\nDanis Hotel Istanbul\\n</td>\n",
       "      <td>Fatih, Istanbul</td>\n",
       "      <td>exceptional</td>\n",
       "      <td>15 reviews</td>\n",
       "      <td>4.988954</td>\n",
       "      <td>7.000000</td>\n",
       "      <td>Istanbul</td>\n",
       "    </tr>\n",
       "  </tbody>\n",
       "</table>\n",
       "</div>"
      ],
      "text/plain": [
       "   Unnamed: 0              city                   distance  \\\n",
       "0           0   Fatih, Istanbul    \\n1 miles from center\\n   \n",
       "1           1   Fatih, Istanbul  \\n3.1 miles from center\\n   \n",
       "\n",
       "                hotel_names          location          rate review_numbers  \\\n",
       "0     \\nMardia city hotel\\n   Fatih, Istanbul  review score    55 reviews    \n",
       "1  \\nDanis Hotel Istanbul\\n   Fatih, Istanbul   exceptional    15 reviews    \n",
       "\n",
       "   distance_km  valid_rate main_city  \n",
       "0     1.609340    4.447103  Istanbul  \n",
       "1     4.988954    7.000000  Istanbul  "
      ]
     },
     "execution_count": 36,
     "metadata": {},
     "output_type": "execute_result"
    }
   ],
   "source": [
    "df.head(2)"
   ]
  },
  {
   "cell_type": "markdown",
   "id": "bc9714b0-84dc-4b8e-a505-cd850ab0097e",
   "metadata": {},
   "source": [
    "* um die Hotel Namen zur haben müssen wir die Hotel_names Spalte bearbeiten "
   ]
  },
  {
   "cell_type": "code",
   "execution_count": 38,
   "id": "70d15aea-3df8-4ec6-b054-a3b5de4bd222",
   "metadata": {},
   "outputs": [],
   "source": [
    "df['main_Hotel'] = df['hotel_names'].str.replace('\\n', '', regex=True).str.strip()\n"
   ]
  },
  {
   "cell_type": "code",
   "execution_count": 39,
   "id": "ce68221a-fa1c-427c-8019-923840757a9c",
   "metadata": {},
   "outputs": [
    {
     "name": "stdout",
     "output_type": "stream",
     "text": [
      "main_Hotel\n",
      "Hotel Amanek Kamata-Eki Mae                      4\n",
      "APA Hotel Yamanote Otsuka Eki Tower              4\n",
      "Shinagawa Prince Hotel                           4\n",
      "Mitsui Garden Hotel Roppongi Tokyo Premier       4\n",
      "Richmond Hotel Asakusa                           4\n",
      "                                                ..\n",
      "Orchard Grand Court                              1\n",
      "Aerotel Transit Hotel, Terminal 1                1\n",
      "Somerset Liang Court Singapore                   1\n",
      "Village Hotel Sentosa by Far East Hospitality    1\n",
      "Radisson Blu Hotel, Dubai Waterfront             1\n",
      "Name: count, Length: 759, dtype: int64\n"
     ]
    }
   ],
   "source": [
    "print(df['main_Hotel'].value_counts())\n"
   ]
  },
  {
   "cell_type": "code",
   "execution_count": 40,
   "id": "65facab6-d8cc-48ce-a1fb-77e66b468d54",
   "metadata": {},
   "outputs": [
    {
     "data": {
      "text/html": [
       "<div>\n",
       "<style scoped>\n",
       "    .dataframe tbody tr th:only-of-type {\n",
       "        vertical-align: middle;\n",
       "    }\n",
       "\n",
       "    .dataframe tbody tr th {\n",
       "        vertical-align: top;\n",
       "    }\n",
       "\n",
       "    .dataframe thead th {\n",
       "        text-align: right;\n",
       "    }\n",
       "</style>\n",
       "<table border=\"1\" class=\"dataframe\">\n",
       "  <thead>\n",
       "    <tr style=\"text-align: right;\">\n",
       "      <th></th>\n",
       "      <th>Unnamed: 0</th>\n",
       "      <th>city</th>\n",
       "      <th>distance</th>\n",
       "      <th>hotel_names</th>\n",
       "      <th>location</th>\n",
       "      <th>rate</th>\n",
       "      <th>review_numbers</th>\n",
       "      <th>distance_km</th>\n",
       "      <th>valid_rate</th>\n",
       "      <th>main_city</th>\n",
       "      <th>main_Hotel</th>\n",
       "    </tr>\n",
       "  </thead>\n",
       "  <tbody>\n",
       "    <tr>\n",
       "      <th>0</th>\n",
       "      <td>0</td>\n",
       "      <td>Fatih, Istanbul</td>\n",
       "      <td>\\n1 miles from center\\n</td>\n",
       "      <td>\\nMardia city hotel\\n</td>\n",
       "      <td>Fatih, Istanbul</td>\n",
       "      <td>review score</td>\n",
       "      <td>55 reviews</td>\n",
       "      <td>1.609340</td>\n",
       "      <td>4.447103</td>\n",
       "      <td>Istanbul</td>\n",
       "      <td>Mardia city hotel</td>\n",
       "    </tr>\n",
       "    <tr>\n",
       "      <th>1</th>\n",
       "      <td>1</td>\n",
       "      <td>Fatih, Istanbul</td>\n",
       "      <td>\\n3.1 miles from center\\n</td>\n",
       "      <td>\\nDanis Hotel Istanbul\\n</td>\n",
       "      <td>Fatih, Istanbul</td>\n",
       "      <td>exceptional</td>\n",
       "      <td>15 reviews</td>\n",
       "      <td>4.988954</td>\n",
       "      <td>7.000000</td>\n",
       "      <td>Istanbul</td>\n",
       "      <td>Danis Hotel Istanbul</td>\n",
       "    </tr>\n",
       "  </tbody>\n",
       "</table>\n",
       "</div>"
      ],
      "text/plain": [
       "   Unnamed: 0              city                   distance  \\\n",
       "0           0   Fatih, Istanbul    \\n1 miles from center\\n   \n",
       "1           1   Fatih, Istanbul  \\n3.1 miles from center\\n   \n",
       "\n",
       "                hotel_names          location          rate review_numbers  \\\n",
       "0     \\nMardia city hotel\\n   Fatih, Istanbul  review score    55 reviews    \n",
       "1  \\nDanis Hotel Istanbul\\n   Fatih, Istanbul   exceptional    15 reviews    \n",
       "\n",
       "   distance_km  valid_rate main_city            main_Hotel  \n",
       "0     1.609340    4.447103  Istanbul     Mardia city hotel  \n",
       "1     4.988954    7.000000  Istanbul  Danis Hotel Istanbul  "
      ]
     },
     "execution_count": 40,
     "metadata": {},
     "output_type": "execute_result"
    }
   ],
   "source": [
    "df.head(2)"
   ]
  },
  {
   "cell_type": "markdown",
   "id": "12c72e6b-bb49-495a-882b-bcbeeaf44988",
   "metadata": {},
   "source": [
    "<a id = \"3\" ></a>\n",
    "# <span style=\"font-family:serif; font-size:22px;\"> 4. Daten visualisierung</span>\n",
    "<a id = \"Visualization\" ></a>"
   ]
  },
  {
   "cell_type": "markdown",
   "id": "81f2df7a-a3a3-47b6-b9bd-f4e9f777ffe4",
   "metadata": {},
   "source": [
    "<a id = \"3\" ></a>\n",
    "# <span style=\"font-family:serif; font-size:18px;\"> 3.5.1 Verteilung der Bewertung</span>\n",
    "<a id = \"Visualization\" ></a>"
   ]
  },
  {
   "cell_type": "code",
   "execution_count": 43,
   "id": "04cc9602-073f-45d3-99b6-9e1417f7ee7d",
   "metadata": {},
   "outputs": [
    {
     "data": {
      "image/png": "[encoded data removed]",
      "text/plain": [
       "<Figure size 640x480 with 1 Axes>"
      ]
     },
     "metadata": {},
     "output_type": "display_data"
    }
   ],
   "source": [
    "sns.histplot(df['valid_rate'], bins=range(2,9), discrete=True)\n",
    "plt.title(\"Verteilung der Hotelbewertungen\")\n",
    "plt.xlabel(\"Bewertung (numerisch)\")\n",
    "plt.ylabel(\"Anzahl\")\n",
    "\n",
    "# Manuelle Legende definieren\n",
    "rating_legend = {\n",
    "    3: \"Good\",\n",
    "    4: \"Very Good\",\n",
    "    5: \"Excellent\",\n",
    "    6: \"Awesome\",\n",
    "    7: \"Exceptional\"\n",
    "}\n",
    "handles = [Patch(color='gray', label=f\"{k} = {v}\") for k, v in rating_legend.items()] ## k und v weil wir von dic werte nehmen k ist zahl und v ist der wert \n",
    "plt.legend(handles=handles, title=\"Bewertungsübersetzung\")\n",
    "\n",
    "plt.show()"
   ]
  },
  {
   "cell_type": "markdown",
   "id": "774546ea-c474-4b14-abca-59c021399580",
   "metadata": {},
   "source": [
    " <a id = \"3\" ></a>\n",
    "# <span style=\"font-family:serif; font-size:18px;\"> 3.5.2 Durchschnittliche Bewertung je Stadt</span>\n",
    "<a id = \"Visualization\" ></a>"
   ]
  },
  {
   "cell_type": "code",
   "execution_count": 45,
   "id": "068b10ee-ca08-47bc-b591-66c8d7773a15",
   "metadata": {},
   "outputs": [
    {
     "data": {
      "image/png": "[encoded data removed]",
      "text/plain": [
       "<Figure size 1000x500 with 1 Axes>"
      ]
     },
     "metadata": {},
     "output_type": "display_data"
    }
   ],
   "source": [
    "city_rating = df.groupby('main_city')['valid_rate'].mean().sort_values(ascending=False)\n",
    "\n",
    "city_rating.plot(kind='bar', figsize=(10,5), color='skyblue')\n",
    "plt.title(\"Durchschnittliche Bewertung pro Stadt\")\n",
    "plt.ylabel(\"Durchschnittliche Bewertung\")\n",
    "plt.ylim(0, 7)  # Y-Achse von 0 bis 7 begrenzen\n",
    "plt.xticks(rotation=45)\n",
    "plt.show()"
   ]
  },
  {
   "cell_type": "markdown",
   "id": "b90e09f0-cac2-427b-9f0e-9011dd3faaf4",
   "metadata": {},
   "source": [
    " <a id = \"3\" ></a>\n",
    "# <span style=\"font-family:serif; font-size:18px;\"> 3.5.3 Bewertung vs. Entfernung vom Zentrum</span>\n",
    "<a id = \"Visualization\" ></a>"
   ]
  },
  {
   "cell_type": "code",
   "execution_count": 47,
   "id": "a762fbdc-8916-4719-aa8f-2ddb820d21cb",
   "metadata": {},
   "outputs": [
    {
     "data": {
      "image/png": "[encoded data removed]",
      "text/plain": [
       "<Figure size 640x480 with 1 Axes>"
      ]
     },
     "metadata": {},
     "output_type": "display_data"
    }
   ],
   "source": [
    "sns.scatterplot(x='distance_km', y='valid_rate', data=df)\n",
    "plt.title(\"Bewertung vs. Entfernung vom Zentrum\")\n",
    "plt.xlabel(\"Entfernung (km)\")\n",
    "plt.ylabel(\"Bewertung\")\n",
    "plt.show()"
   ]
  },
  {
   "cell_type": "markdown",
   "id": "9a456417-39f1-4c20-b0ab-0daa90791929",
   "metadata": {},
   "source": [
    "* die Entferung macht nicht viel auf die Auswertung aus "
   ]
  },
  {
   "cell_type": "markdown",
   "id": "338409e9-1048-4dc2-b87d-88514b7c5cc5",
   "metadata": {},
   "source": [
    " <a id = \"3\" ></a>\n",
    "# <span style=\"font-family:serif; font-size:18px;\"> 3.5.4 Top bewertete Hotels</span>\n",
    "<a id = \"Visualization\" ></a>\n"
   ]
  },
  {
   "cell_type": "code",
   "execution_count": 50,
   "id": "2188cca6-008e-4dbe-b28b-ee735cba54ab",
   "metadata": {},
   "outputs": [
    {
     "name": "stdout",
     "output_type": "stream",
     "text": [
      "                                         main_Hotel  valid_rate\n",
      "624                    Appartement Bijou Paris 5ème         7.0\n",
      "287                   The RuMa Hotel and Residences         7.0\n",
      "74                                     Four-G Hotel         7.0\n",
      "589                      Gardenflat Buttes Chaumont         7.0\n",
      "740                 Palm House 17 - Adult Only(12+)         7.0\n",
      "515     Colourful Modern Brixton 2-Bed with Balcony         7.0\n",
      "505  Stylish London 3-Bedroom, 3 Bathroom Apartment         7.0\n",
      "232                     Premium suites in KLCC area         7.0\n",
      "513            Urban Stay Oxford Gardens Apartments         7.0\n",
      "1                              Danis Hotel Istanbul         7.0\n"
     ]
    }
   ],
   "source": [
    "top_hotels = df[['main_Hotel', 'valid_rate']].sort_values(by='valid_rate', ascending=False).head(10)\n",
    "print(top_hotels)"
   ]
  },
  {
   "cell_type": "markdown",
   "id": "f7dc4b4c-640b-4e51-af98-7a0288ffd712",
   "metadata": {},
   "source": [
    " <a id = \"3\" ></a>\n",
    "# <span style=\"font-family:serif; font-size:18px;\"> 3.5.5  Anzahl Bewertungen vs. Bewertung</span>\n",
    "<a id = \"Visualization\" ></a>"
   ]
  },
  {
   "cell_type": "code",
   "execution_count": 52,
   "id": "22c991a8-ba4a-44b7-874f-8f36b83d6bab",
   "metadata": {},
   "outputs": [],
   "source": [
    "df['reviewnumbers'] = df['review_numbers'].str.extract(r'(\\d+)').astype(float)"
   ]
  },
  {
   "cell_type": "code",
   "execution_count": 53,
   "id": "612a74ca-7bd6-44b7-bcbf-92ef0a1f9f69",
   "metadata": {},
   "outputs": [
    {
     "data": {
      "text/html": [
       "<div>\n",
       "<style scoped>\n",
       "    .dataframe tbody tr th:only-of-type {\n",
       "        vertical-align: middle;\n",
       "    }\n",
       "\n",
       "    .dataframe tbody tr th {\n",
       "        vertical-align: top;\n",
       "    }\n",
       "\n",
       "    .dataframe thead th {\n",
       "        text-align: right;\n",
       "    }\n",
       "</style>\n",
       "<table border=\"1\" class=\"dataframe\">\n",
       "  <thead>\n",
       "    <tr style=\"text-align: right;\">\n",
       "      <th></th>\n",
       "      <th>Unnamed: 0</th>\n",
       "      <th>city</th>\n",
       "      <th>distance</th>\n",
       "      <th>hotel_names</th>\n",
       "      <th>location</th>\n",
       "      <th>rate</th>\n",
       "      <th>review_numbers</th>\n",
       "      <th>distance_km</th>\n",
       "      <th>valid_rate</th>\n",
       "      <th>main_city</th>\n",
       "      <th>main_Hotel</th>\n",
       "      <th>reviewnumbers</th>\n",
       "    </tr>\n",
       "  </thead>\n",
       "  <tbody>\n",
       "    <tr>\n",
       "      <th>0</th>\n",
       "      <td>0</td>\n",
       "      <td>Fatih, Istanbul</td>\n",
       "      <td>\\n1 miles from center\\n</td>\n",
       "      <td>\\nMardia city hotel\\n</td>\n",
       "      <td>Fatih, Istanbul</td>\n",
       "      <td>review score</td>\n",
       "      <td>55 reviews</td>\n",
       "      <td>1.609340</td>\n",
       "      <td>4.447103</td>\n",
       "      <td>Istanbul</td>\n",
       "      <td>Mardia city hotel</td>\n",
       "      <td>55.0</td>\n",
       "    </tr>\n",
       "    <tr>\n",
       "      <th>1</th>\n",
       "      <td>1</td>\n",
       "      <td>Fatih, Istanbul</td>\n",
       "      <td>\\n3.1 miles from center\\n</td>\n",
       "      <td>\\nDanis Hotel Istanbul\\n</td>\n",
       "      <td>Fatih, Istanbul</td>\n",
       "      <td>exceptional</td>\n",
       "      <td>15 reviews</td>\n",
       "      <td>4.988954</td>\n",
       "      <td>7.000000</td>\n",
       "      <td>Istanbul</td>\n",
       "      <td>Danis Hotel Istanbul</td>\n",
       "      <td>15.0</td>\n",
       "    </tr>\n",
       "    <tr>\n",
       "      <th>2</th>\n",
       "      <td>2</td>\n",
       "      <td>Beyoglu, Istanbul</td>\n",
       "      <td>\\n1 miles from center\\n</td>\n",
       "      <td>\\nCZN Burak Hotel\\n</td>\n",
       "      <td>Beyoglu, Istanbul</td>\n",
       "      <td>very good</td>\n",
       "      <td>63 reviews</td>\n",
       "      <td>1.609340</td>\n",
       "      <td>4.000000</td>\n",
       "      <td>Istanbul</td>\n",
       "      <td>CZN Burak Hotel</td>\n",
       "      <td>63.0</td>\n",
       "    </tr>\n",
       "    <tr>\n",
       "      <th>3</th>\n",
       "      <td>3</td>\n",
       "      <td>Beyoglu, Istanbul</td>\n",
       "      <td>\\n3.1 miles from center\\n</td>\n",
       "      <td>\\nTHE TANGO HOTEL TAKSİM\\n</td>\n",
       "      <td>Beyoglu, Istanbul</td>\n",
       "      <td>awesome</td>\n",
       "      <td>26 reviews</td>\n",
       "      <td>4.988954</td>\n",
       "      <td>6.000000</td>\n",
       "      <td>Istanbul</td>\n",
       "      <td>THE TANGO HOTEL TAKSİM</td>\n",
       "      <td>26.0</td>\n",
       "    </tr>\n",
       "    <tr>\n",
       "      <th>4</th>\n",
       "      <td>4</td>\n",
       "      <td>European Side, Istanbul</td>\n",
       "      <td>\\n2 miles from center\\n</td>\n",
       "      <td>\\nRamada Istanbul Alibeykoy\\n</td>\n",
       "      <td>European Side, Istanbul</td>\n",
       "      <td>excellent</td>\n",
       "      <td>216 reviews</td>\n",
       "      <td>3.218680</td>\n",
       "      <td>5.000000</td>\n",
       "      <td>Istanbul</td>\n",
       "      <td>Ramada Istanbul Alibeykoy</td>\n",
       "      <td>216.0</td>\n",
       "    </tr>\n",
       "  </tbody>\n",
       "</table>\n",
       "</div>"
      ],
      "text/plain": [
       "   Unnamed: 0                      city                   distance  \\\n",
       "0           0           Fatih, Istanbul    \\n1 miles from center\\n   \n",
       "1           1           Fatih, Istanbul  \\n3.1 miles from center\\n   \n",
       "2           2         Beyoglu, Istanbul    \\n1 miles from center\\n   \n",
       "3           3         Beyoglu, Istanbul  \\n3.1 miles from center\\n   \n",
       "4           4   European Side, Istanbul    \\n2 miles from center\\n   \n",
       "\n",
       "                     hotel_names                  location          rate  \\\n",
       "0          \\nMardia city hotel\\n           Fatih, Istanbul  review score   \n",
       "1       \\nDanis Hotel Istanbul\\n           Fatih, Istanbul   exceptional   \n",
       "2            \\nCZN Burak Hotel\\n         Beyoglu, Istanbul     very good   \n",
       "3     \\nTHE TANGO HOTEL TAKSİM\\n         Beyoglu, Istanbul       awesome   \n",
       "4  \\nRamada Istanbul Alibeykoy\\n   European Side, Istanbul     excellent   \n",
       "\n",
       "  review_numbers  distance_km  valid_rate main_city  \\\n",
       "0    55 reviews      1.609340    4.447103  Istanbul   \n",
       "1    15 reviews      4.988954    7.000000  Istanbul   \n",
       "2    63 reviews      1.609340    4.000000  Istanbul   \n",
       "3    26 reviews      4.988954    6.000000  Istanbul   \n",
       "4   216 reviews      3.218680    5.000000  Istanbul   \n",
       "\n",
       "                  main_Hotel  reviewnumbers  \n",
       "0          Mardia city hotel           55.0  \n",
       "1       Danis Hotel Istanbul           15.0  \n",
       "2            CZN Burak Hotel           63.0  \n",
       "3     THE TANGO HOTEL TAKSİM           26.0  \n",
       "4  Ramada Istanbul Alibeykoy          216.0  "
      ]
     },
     "execution_count": 53,
     "metadata": {},
     "output_type": "execute_result"
    }
   ],
   "source": [
    "df.head(5)\n"
   ]
  },
  {
   "cell_type": "code",
   "execution_count": 54,
   "id": "67ac5bcc-467d-480a-a7c3-39450103d0e8",
   "metadata": {},
   "outputs": [
    {
     "data": {
      "image/png": "[encoded data removed]",
      "text/plain": [
       "<Figure size 1000x600 with 1 Axes>"
      ]
     },
     "metadata": {},
     "output_type": "display_data"
    }
   ],
   "source": [
    "plt.figure(figsize=(10,6))\n",
    "sns.scatterplot(\n",
    "    data=df, \n",
    "    x='reviewnumbers', \n",
    "    y='valid_rate',\n",
    "    alpha=0.6\n",
    ")\n",
    "plt.title('Anzahl der Bewertungen vs. Bewertung')\n",
    "plt.xlabel('Anzahl der Bewertungen')\n",
    "plt.ylabel('Durchschnittliche Bewertung')\n",
    "plt.grid(True)\n",
    "plt.show()"
   ]
  },
  {
   "cell_type": "markdown",
   "id": "5e0db5ed-191b-4999-a72a-e1c3a424bba5",
   "metadata": {},
   "source": [
    "<a id = \"4\" ></a>\n",
    "# <span style=\"font-family:serif; font-size:22px;\"> 5. Recommender System</span>\n",
    "<a id = \"Content-Based System\" ></a>"
   ]
  },
  {
   "cell_type": "markdown",
   "id": "c8eef8b5-9805-4d16-a258-0a40e8c3f390",
   "metadata": {},
   "source": [
    " <a id = \"4\" ></a>\n",
    "# <span style=\"font-family:serif; font-size:18px;\"> 4.1  Modellauswahl und Begründung</span>\n",
    "<a id = \"C_b_S\" ></a>\n"
   ]
  },
  {
   "cell_type": "markdown",
   "id": "ebd474f2-a9b2-43eb-84ff-aca3446d5974",
   "metadata": {},
   "source": [
    "<a id = \"1\" ></a>\n",
    "#### <b>Content-Based Filtering:</b>\n",
    "<span style=\"font-size:16px;\">Empfiehlt dem Nutzer Objekte (z. B. Hotels), die ähnliche Eigenschaften haben wie Dinge, die der Nutzer in der Vergangenheit mochte – basierend auf dem Inhalt (content) der Objekte.\n",
    "\n",
    "<span style=\"font-size:17px;\">Wie funktioniert das?\n",
    "Jedes Hotel wird durch Eigenschaften beschrieben, z. B.:\n",
    "\n",
    "* Bewertung\n",
    "* Lage (Entfernung, Stadtteil)\n",
    "* Aktivitäten oder Ausstattung\n",
    "* Preisniveau\n",
    "\n",
    "<span style=\"font-size:16px;\">Ein Nutzerprofil wird erstellt: z. B. „mag Hotels mit Bewertung > 4.0 und nah am Zentrum“.\n",
    "\n",
    "<span style=\"font-size:16px;\">Das System sucht dann Hotels, die diese Merkmale teilen.\n",
    "\n",
    "<a id = \"2\" ></a>\n",
    "#### <b>Collaborative Filtering</b>\n",
    "<span style=\"font-size:16px;\">Empfiehlt dem Nutzer Objekte, die ähnliche Nutzer ebenfalls mochten – also: „Leute wie du mochten auch ...“.\n",
    "\n",
    "<span style=\"font-size:17px;\">Wie funktioniert das?\n",
    "Zwei Hauptarten:\n",
    "\n",
    "<span style=\"font-size:17px;\"> User-Based Collaborative Filtering\n",
    "* Finde Nutzer, die ähnlich denken, und empfehle, was sie mögen.\n",
    "\n",
    "<span style=\"font-size:16px;\">Beispiel: Wenn Anna und Max ähnliche Hotels mögen, und Max mag ein neues Hotel, das Anna noch nicht kennt → Empfehlung für Anna.\n",
    "\n",
    "<span style=\"font-size:17px;\">Item-Based Collaborative Filtering\n",
    "* Finde Objekte, die von denselben Leuten positiv bewertet wurden.\n",
    "\n",
    "<span style=\"font-size:17px;\">Beispiel: Wenn viele Nutzer, die Hotel A mochten, auch Hotel B mochten → Hotel B wird empfohlen, wenn du A gut fandst.\n",
    "\n",
    "#### <span style=\"font-size:17px;\">Hier wird die Content-Based Filtering benutzt da wir keine bewertung von verschiedene benutzern haben.\n"
   ]
  },
  {
   "cell_type": "markdown",
   "id": "f304d45d-e524-40c8-b503-554116321426",
   "metadata": {},
   "source": [
    " <a id = \"4\" ></a>\n",
    "# <span style=\"font-family:serif; font-size:22px;\"> 6.   Content-Based System aufbauen (Defintion basiert kein ML )</span>\n",
    "<a id = \"C_b_S\" ></a>"
   ]
  },
  {
   "cell_type": "code",
   "execution_count": 59,
   "id": "4820dc53-25bd-4acc-8322-fe1b5a6ed034",
   "metadata": {},
   "outputs": [],
   "source": [
    "empfohlen = df[\n",
    "    (df['main_city'] == 'Istanbul') &\n",
    "    (df['valid_rate'] >= 4.0) &\n",
    "    (df['reviewnumbers'] >= 50) &\n",
    "    (df['distance_km'] <= 2.0)\n",
    "]"
   ]
  },
  {
   "cell_type": "code",
   "execution_count": 60,
   "id": "90dabf7c-b2c6-47fa-bfe0-5a2a16b35f6d",
   "metadata": {},
   "outputs": [],
   "source": [
    "def score(row):\n",
    "    return row['valid_rate'] * 0.6 + (row['reviewnumbers'] * 0.003) - (row['distance_km'] * 0.2)\n",
    "\n",
    "empfohlen['score'] = empfohlen.apply(score, axis=1)\n",
    "empfohlen = empfohlen.sort_values(by='score', ascending=False)"
   ]
  },
  {
   "cell_type": "code",
   "execution_count": 61,
   "id": "32663273-b9ad-4b13-a229-80839ec258c5",
   "metadata": {},
   "outputs": [
    {
     "name": "stdout",
     "output_type": "stream",
     "text": [
      "                                 main_Hotel  valid_rate  reviewnumbers  \\\n",
      "84                  The Grand Tarabya Hotel         6.0          664.0   \n",
      "41                                HHK Hotel         5.0          866.0   \n",
      "33                       Star Holiday Hotel         4.0          884.0   \n",
      "13                Walton Hotels Taksim Pera         6.0          496.0   \n",
      "76  Faros Hotel Old City - Special Category         4.0          700.0   \n",
      "\n",
      "    distance_km     score  \n",
      "84     1.770274  5.237945  \n",
      "41     1.931208  5.211758  \n",
      "33     0.243840  5.003232  \n",
      "13     1.609340  4.766132  \n",
      "76     0.106680  4.478664  \n"
     ]
    }
   ],
   "source": [
    "print(empfohlen[['main_Hotel', 'valid_rate', 'reviewnumbers', 'distance_km', 'score']].head(5))"
   ]
  },
  {
   "cell_type": "markdown",
   "id": "bc06d4cc-031e-48ff-bd5d-778de81ea6af",
   "metadata": {},
   "source": [
    " <a id = \"4\" ></a>\n",
    "# <span style=\"font-family:serif; font-size:22px;\"> 7.  Content-Based Recommender mit Modelltraining und Evaluation</span>\n",
    "<a id = \"C_b_S\" ></a>\n"
   ]
  },
  {
   "cell_type": "markdown",
   "id": "52723b76-1e45-41b8-bf3d-9a7668d31faf",
   "metadata": {},
   "source": [
    "* Profile erstellen "
   ]
  },
  {
   "cell_type": "code",
   "execution_count": 114,
   "id": "f5a32235-3744-4860-8809-568dfce0e2fa",
   "metadata": {},
   "outputs": [],
   "source": [
    "wunsch_stadt = 'Istanbul'\n",
    "min_bewertung = 4.0\n",
    "\n",
    "max_entfernung = 2.0"
   ]
  },
  {
   "cell_type": "code",
   "execution_count": 116,
   "id": "823eedc0-64b2-420a-b4b0-88c686b8c9f2",
   "metadata": {},
   "outputs": [],
   "source": [
    "# Ziel definieren: empfohlene Hotels (1 = ja, 0 = nein)\n",
    "df['label'] = (\n",
    "    (df['main_city'] == wunsch_stadt) &\n",
    "    (df['valid_rate'] >= min_bewertung) &\n",
    "    (df['distance_km'] <= max_entfernung)\n",
    ").astype(int)"
   ]
  },
  {
   "cell_type": "code",
   "execution_count": 118,
   "id": "e3ff359e-98cc-4657-9639-9f53c3d6b6a4",
   "metadata": {},
   "outputs": [],
   "source": [
    "features = df[['valid_rate', 'reviewnumbers', 'distance_km']]\n",
    "labels = df['label']"
   ]
  },
  {
   "cell_type": "code",
   "execution_count": 120,
   "id": "c1b5b11f-6cd6-4c43-8d41-757b84344ea6",
   "metadata": {},
   "outputs": [],
   "source": [
    "# Daten aufteilen\n",
    "X_train, X_test, y_train, y_test = train_test_split(features, labels, test_size=0.2, random_state=42)\n",
    "\n",
    "# Modell trainieren\n",
    "model = RandomForestClassifier()\n",
    "model.fit(X_train, y_train)\n",
    "\n",
    "# Vorhersagen\n",
    "y_pred = model.predict(X_test)"
   ]
  },
  {
   "cell_type": "code",
   "execution_count": 122,
   "id": "28863a3f-e831-4466-b2bf-e03d4e82148e",
   "metadata": {},
   "outputs": [
    {
     "name": "stdout",
     "output_type": "stream",
     "text": [
      "Accuracy: 0.9782608695652174\n",
      "Klassifikationsbericht:\n",
      "               precision    recall  f1-score   support\n",
      "\n",
      "           0       0.98      0.99      0.99       181\n",
      "           1       0.00      0.00      0.00         3\n",
      "\n",
      "    accuracy                           0.98       184\n",
      "   macro avg       0.49      0.50      0.49       184\n",
      "weighted avg       0.97      0.98      0.97       184\n",
      "\n"
     ]
    }
   ],
   "source": [
    "print(\"Accuracy:\", accuracy_score(y_test, y_pred))\n",
    "print(\"Klassifikationsbericht:\\n\", classification_report(y_test, y_pred))"
   ]
  },
  {
   "cell_type": "markdown",
   "id": "7b4f7189-f1b7-4b56-9cad-7f3a5fb27c1b",
   "metadata": {},
   "source": [
    " <a id = \"4\" ></a>\n",
    "# <span style=\"font-family:serif; font-size:18px;\"> 6.1 Nutzung des Modells zur Empfehlung</span>\n",
    "<a id = \"C_b_S\" ></a>\n",
    " \n"
   ]
  },
  {
   "cell_type": "code",
   "execution_count": 124,
   "id": "75774a44-270c-4cc2-be91-cee71d727808",
   "metadata": {},
   "outputs": [
    {
     "name": "stdout",
     "output_type": "stream",
     "text": [
      "                   main_Hotel main_city  valid_rate  reviewnumbers  \\\n",
      "0           Mardia city hotel  Istanbul    4.447103           55.0   \n",
      "2             CZN Burak Hotel  Istanbul    4.000000           63.0   \n",
      "13  Walton Hotels Taksim Pera  Istanbul    6.000000          496.0   \n",
      "24     Enderun Hotel Istanbul  Istanbul    5.000000          258.0   \n",
      "26        Fuego Design Suites  Istanbul    6.000000           51.0   \n",
      "\n",
      "    distance_km  \n",
      "0       1.60934  \n",
      "2       1.60934  \n",
      "13      1.60934  \n",
      "24      0.24384  \n",
      "26      0.24384  \n"
     ]
    }
   ],
   "source": [
    "df['predicted'] = model.predict(features)\n",
    "empfohlene_hotels = df[df['predicted'] == 1]\n",
    "print(empfohlene_hotels[['main_Hotel', 'main_city', 'valid_rate', 'reviewnumbers', 'distance_km']].head(5))"
   ]
  },
  {
   "cell_type": "markdown",
   "id": "fa9f0e98-7501-4ae4-976b-93806221117e",
   "metadata": {},
   "source": [
    "<a id = \"4\" ></a>\n",
    "# <span style=\"font-family:serif; font-size:18px;\"> 4.4 Empfehlung als Diagram darstellen</span>\n",
    "<a id = \"C_b_S\" ></a>"
   ]
  },
  {
   "cell_type": "markdown",
   "id": "aa4d7f07-75db-4617-877e-04ed330bc191",
   "metadata": {},
   "source": [
    "<a id = \"4\" ></a>\n",
    "# <span style=\"font-family:serif; font-size:22px;\"> 8. Empfehlung als Diagram darstellen</span>\n",
    "<a id = \"C_b_S\" ></a>"
   ]
  },
  {
   "cell_type": "code",
   "execution_count": 142,
   "id": "4a0f86b4-7327-4457-b3fb-5d89089902b6",
   "metadata": {},
   "outputs": [
    {
     "data": {
      "image/png": "[encoded data removed]",
      "text/plain": [
       "<Figure size 1000x600 with 1 Axes>"
      ]
     },
     "metadata": {},
     "output_type": "display_data"
    }
   ],
   "source": [
    "# Die ersten 5 empfohlenen Hotels ausgeben\n",
    "top_hotels = empfohlene_hotels.head(5)\n",
    "\n",
    "plt.figure(figsize=(10, 6))\n",
    "plt.barh(top_hotels['main_Hotel'], top_hotels['valid_rate'], color='teal')\n",
    "plt.xlabel('Bewertung (valid_rate)')\n",
    "plt.title('Top-5 empfohlene Hotels nach Bewertung')\n",
    "plt.gca().invert_yaxis()  # Höchste Bewertung oben\n",
    "plt.show()\n"
   ]
  },
  {
   "cell_type": "markdown",
   "id": "7a37e05a-9348-4786-ba24-1d4779df9cf6",
   "metadata": {},
   "source": [
    "<a id = \"4\" ></a>\n",
    "# <span style=\"font-family:serif; font-size:22px;\"> 9. Fazit</span>\n",
    "<a id = \"C_b_S\" ></a>"
   ]
  },
  {
   "cell_type": "markdown",
   "id": "dcbe6728-2270-4dca-810c-184a981d46ca",
   "metadata": {},
   "source": [
    "<span style=\"font-size:16px;\">In diesem Projekt haben wir ein Content-Based Recommender System entwickelt, das es ermöglicht, Hotels basierend auf Benutzervorlieben wie Bewertung, Anzahl der Bewertungen und Entfernung zum Zentrum zu empfehlen. Der Prozess bestand aus den folgenden Schritten:\n",
    "\n",
    "## <span style=\"font-size:16px;\">Datenvorbereitung und bereinigung:\n",
    "<span style=\"font-size:16px;\">Wir haben die Hotel-Daten aus verschiedenen Quellen bereinigt, dabei fehlende Werte entfernt und numerische Variablen wie die Bewertung, Entfernung und Anzahl der Bewertungen extrahiert.\n",
    "\n",
    "## <span style=\"font-size:16px;\">Modellentwicklung:\n",
    "\n",
    "<span style=\"font-size:16px;\">Wir haben ein Machine Learning-Modell trainiert, um Hotels zu empfehlen. Dazu haben wir die Bewertungen und andere Merkmale wie Entfernung und Bewertungsanzahl verwendet.\n",
    "\n",
    "<span style=\"font-size:16px;\">Das Modell wurde so angepasst, dass es die besten Hoteloptionen vorhersagen kann, die den Vorlieben eines Nutzers entsprechen.\n",
    "\n",
    "## <span style=\"font-size:16px;\">Evaluation:\n",
    "\n",
    "<span style=\"font-size:16px;\">Wir haben das Modell evaluiert und dessen Vorhersagegenauigkeit überprüft. Die Leistung des Modells wurde durch Standardmetriken wie Accuracy und Confusion Matrix bewertet.\n",
    "\n",
    "## <span style=\"font-size:16px;\">Visualisierung:\n",
    "\n",
    "<span style=\"font-size:16px;\">Das Ergebnis wurde mit Tabellen und Diagrammen visualisiert, um den Nutzern die besten Hotels auf Basis ihrer Präferenzen anzuzeigen. Die wichtigsten Kennzahlen, wie Bewertungen und Entfernung, wurden für die Nutzeransicht aufbereitet.\n",
    "## <span style=\"font-size:16px;\">Ergebnisse:\n",
    "Das Modell konnte erfolgreich empfohlene Hotels generieren, die auf den Kriterien des Nutzers basieren. Mit den gezeigten Empfehlungen <span style=\"font-size:16px;\">können Nutzer nun gezielt Hotels auswählen, die ihre spezifischen Anforderungen erfüllen, z. B. in Bezug auf Bewertung, Entfernung zum Zentrum und Anzahl der Bewertungen.\n",
    "<span style=\"font-size:16px;\">Das System ist flexibel und kann leicht an andere Kriterien angepasst werden, z. B. durch Hinzufügen neuer Filter oder durch das Verwenden anderer Empfehlungsalgorithmen wie Collaborative Filtering.Ergebnisse:\n",
    "Das Modell konnte erfolgreich empfohlene Hotels generieren, die auf den Kriterien des Nutzers basieren. Mit den gezeigten Empfehlungen können Nutzer nun gezielt Hotels auswählen, die ihre spezifischen Anforderungen erfüllen, z. B. in Bezug auf Bewertung, Entfernung zum Zentrum und Anzahl der Bewertungen.\n",
    "\n"
   ]
  },
  {
   "cell_type": "markdown",
   "id": "a69a727f-9743-4bb8-b148-d41e15cef8da",
   "metadata": {},
   "source": [
    "<a id = \"4\" ></a>\n",
    "# <span style=\"font-family:serif; font-size:22px;\"> 9. Modell Speichern</span>\n",
    "<a id = \"C_b_S\" ></a>"
   ]
  },
  {
   "cell_type": "code",
   "execution_count": 164,
   "id": "30d37c02-952c-4042-b5a5-7cc041d4c2c5",
   "metadata": {},
   "outputs": [
    {
     "data": {
      "text/plain": [
       "['hotel_recommender_model.pkl']"
      ]
     },
     "execution_count": 164,
     "metadata": {},
     "output_type": "execute_result"
    }
   ],
   "source": [
    "joblib.dump(model, 'hotel_recommender_model.pkl')"
   ]
  }
 ],
 "metadata": {
  "kernelspec": {
   "display_name": "Python [conda env:base] *",
   "language": "python",
   "name": "conda-base-py"
  },
  "language_info": {
   "codemirror_mode": {
    "name": "ipython",
    "version": 3
   },
   "file_extension": ".py",
   "mimetype": "text/x-python",
   "name": "python",
   "nbconvert_exporter": "python",
   "pygments_lexer": "ipython3",
   "version": "3.12.2"
  }
 },
 "nbformat": 4,
 "nbformat_minor": 5
}
